{
 "cells": [
  {
   "cell_type": "code",
   "execution_count": 41,
   "metadata": {
    "collapsed": false
   },
   "outputs": [],
   "source": [
    "from sklearn.naive_bayes import GaussianNB\n",
    "from sklearn.feature_selection import RFE\n",
    "from sklearn.linear_model import LogisticRegression\n",
    "from sklearn.ensemble import ExtraTreesClassifier\n",
    "from time import time\n",
    "import matplotlib.pyplot as plt\n",
    "import seaborn as sns\n",
    "import numpy as np\n",
    "import pandas as pd\n",
    "path =  'C:\\Users\\Charlie2\\Documents\\pubg stat' #\"C:\\Users\\\\xruns\\Documents\\pubg2\"\n",
    "filename_sample = path + '\\\\sample_submission_V2.csv'\n",
    "filename_test = path + '\\\\test_V2.csv'\n",
    "filename_train = path + '\\\\train_V2.csv'\n",
    "#test_data = pd.read_csv(filename_test)"
   ]
  },
  {
   "cell_type": "code",
   "execution_count": 42,
   "metadata": {
    "collapsed": true
   },
   "outputs": [],
   "source": [
    "# REMEMBER to add the engineered features to the test set as well"
   ]
  },
  {
   "cell_type": "code",
   "execution_count": 43,
   "metadata": {
    "collapsed": false
   },
   "outputs": [
    {
     "data": {
      "text/plain": [
       "'C:\\\\Users\\\\Charlie2\\\\Documents\\\\pubg stat\\\\train_V2.csv'"
      ]
     },
     "execution_count": 43,
     "metadata": {},
     "output_type": "execute_result"
    }
   ],
   "source": [
    "filename_train"
   ]
  },
  {
   "cell_type": "code",
   "execution_count": 44,
   "metadata": {
    "collapsed": false
   },
   "outputs": [],
   "source": [
    "train_data= pd.read_csv(filename_train)"
   ]
  },
  {
   "cell_type": "code",
   "execution_count": 45,
   "metadata": {
    "collapsed": false
   },
   "outputs": [
    {
     "data": {
      "text/html": [
       "<div>\n",
       "<style>\n",
       "    .dataframe thead tr:only-child th {\n",
       "        text-align: right;\n",
       "    }\n",
       "\n",
       "    .dataframe thead th {\n",
       "        text-align: left;\n",
       "    }\n",
       "\n",
       "    .dataframe tbody tr th {\n",
       "        vertical-align: top;\n",
       "    }\n",
       "</style>\n",
       "<table border=\"1\" class=\"dataframe\">\n",
       "  <thead>\n",
       "    <tr style=\"text-align: right;\">\n",
       "      <th></th>\n",
       "      <th>assists</th>\n",
       "      <th>boosts</th>\n",
       "      <th>damageDealt</th>\n",
       "      <th>DBNOs</th>\n",
       "      <th>headshotKills</th>\n",
       "      <th>heals</th>\n",
       "      <th>killPlace</th>\n",
       "      <th>killPoints</th>\n",
       "      <th>kills</th>\n",
       "      <th>killStreaks</th>\n",
       "      <th>...</th>\n",
       "      <th>revives</th>\n",
       "      <th>rideDistance</th>\n",
       "      <th>roadKills</th>\n",
       "      <th>swimDistance</th>\n",
       "      <th>teamKills</th>\n",
       "      <th>vehicleDestroys</th>\n",
       "      <th>walkDistance</th>\n",
       "      <th>weaponsAcquired</th>\n",
       "      <th>winPoints</th>\n",
       "      <th>winPlacePerc</th>\n",
       "    </tr>\n",
       "  </thead>\n",
       "  <tbody>\n",
       "    <tr>\n",
       "      <th>count</th>\n",
       "      <td>4.446966e+06</td>\n",
       "      <td>4.446966e+06</td>\n",
       "      <td>4.446966e+06</td>\n",
       "      <td>4.446966e+06</td>\n",
       "      <td>4.446966e+06</td>\n",
       "      <td>4.446966e+06</td>\n",
       "      <td>4.446966e+06</td>\n",
       "      <td>4.446966e+06</td>\n",
       "      <td>4.446966e+06</td>\n",
       "      <td>4.446966e+06</td>\n",
       "      <td>...</td>\n",
       "      <td>4.446966e+06</td>\n",
       "      <td>4.446966e+06</td>\n",
       "      <td>4.446966e+06</td>\n",
       "      <td>4.446966e+06</td>\n",
       "      <td>4.446966e+06</td>\n",
       "      <td>4.446966e+06</td>\n",
       "      <td>4.446966e+06</td>\n",
       "      <td>4.446966e+06</td>\n",
       "      <td>4.446966e+06</td>\n",
       "      <td>4.446965e+06</td>\n",
       "    </tr>\n",
       "    <tr>\n",
       "      <th>mean</th>\n",
       "      <td>2.338149e-01</td>\n",
       "      <td>1.106908e+00</td>\n",
       "      <td>1.307171e+02</td>\n",
       "      <td>6.578755e-01</td>\n",
       "      <td>2.268196e-01</td>\n",
       "      <td>1.370147e+00</td>\n",
       "      <td>4.759935e+01</td>\n",
       "      <td>5.050060e+02</td>\n",
       "      <td>9.247833e-01</td>\n",
       "      <td>5.439551e-01</td>\n",
       "      <td>...</td>\n",
       "      <td>1.646590e-01</td>\n",
       "      <td>6.061157e+02</td>\n",
       "      <td>3.496091e-03</td>\n",
       "      <td>4.509322e+00</td>\n",
       "      <td>2.386841e-02</td>\n",
       "      <td>7.918208e-03</td>\n",
       "      <td>1.154218e+03</td>\n",
       "      <td>3.660488e+00</td>\n",
       "      <td>6.064601e+02</td>\n",
       "      <td>4.728216e-01</td>\n",
       "    </tr>\n",
       "    <tr>\n",
       "      <th>std</th>\n",
       "      <td>5.885731e-01</td>\n",
       "      <td>1.715794e+00</td>\n",
       "      <td>1.707806e+02</td>\n",
       "      <td>1.145743e+00</td>\n",
       "      <td>6.021553e-01</td>\n",
       "      <td>2.679982e+00</td>\n",
       "      <td>2.746294e+01</td>\n",
       "      <td>6.275049e+02</td>\n",
       "      <td>1.558445e+00</td>\n",
       "      <td>7.109721e-01</td>\n",
       "      <td>...</td>\n",
       "      <td>4.721671e-01</td>\n",
       "      <td>1.498344e+03</td>\n",
       "      <td>7.337297e-02</td>\n",
       "      <td>3.050220e+01</td>\n",
       "      <td>1.673935e-01</td>\n",
       "      <td>9.261157e-02</td>\n",
       "      <td>1.183497e+03</td>\n",
       "      <td>2.456544e+00</td>\n",
       "      <td>7.397004e+02</td>\n",
       "      <td>3.074050e-01</td>\n",
       "    </tr>\n",
       "    <tr>\n",
       "      <th>min</th>\n",
       "      <td>0.000000e+00</td>\n",
       "      <td>0.000000e+00</td>\n",
       "      <td>0.000000e+00</td>\n",
       "      <td>0.000000e+00</td>\n",
       "      <td>0.000000e+00</td>\n",
       "      <td>0.000000e+00</td>\n",
       "      <td>1.000000e+00</td>\n",
       "      <td>0.000000e+00</td>\n",
       "      <td>0.000000e+00</td>\n",
       "      <td>0.000000e+00</td>\n",
       "      <td>...</td>\n",
       "      <td>0.000000e+00</td>\n",
       "      <td>0.000000e+00</td>\n",
       "      <td>0.000000e+00</td>\n",
       "      <td>0.000000e+00</td>\n",
       "      <td>0.000000e+00</td>\n",
       "      <td>0.000000e+00</td>\n",
       "      <td>0.000000e+00</td>\n",
       "      <td>0.000000e+00</td>\n",
       "      <td>0.000000e+00</td>\n",
       "      <td>0.000000e+00</td>\n",
       "    </tr>\n",
       "    <tr>\n",
       "      <th>25%</th>\n",
       "      <td>0.000000e+00</td>\n",
       "      <td>0.000000e+00</td>\n",
       "      <td>0.000000e+00</td>\n",
       "      <td>0.000000e+00</td>\n",
       "      <td>0.000000e+00</td>\n",
       "      <td>0.000000e+00</td>\n",
       "      <td>2.400000e+01</td>\n",
       "      <td>0.000000e+00</td>\n",
       "      <td>0.000000e+00</td>\n",
       "      <td>0.000000e+00</td>\n",
       "      <td>...</td>\n",
       "      <td>0.000000e+00</td>\n",
       "      <td>0.000000e+00</td>\n",
       "      <td>0.000000e+00</td>\n",
       "      <td>0.000000e+00</td>\n",
       "      <td>0.000000e+00</td>\n",
       "      <td>0.000000e+00</td>\n",
       "      <td>1.551000e+02</td>\n",
       "      <td>2.000000e+00</td>\n",
       "      <td>0.000000e+00</td>\n",
       "      <td>2.000000e-01</td>\n",
       "    </tr>\n",
       "    <tr>\n",
       "      <th>50%</th>\n",
       "      <td>0.000000e+00</td>\n",
       "      <td>0.000000e+00</td>\n",
       "      <td>8.424000e+01</td>\n",
       "      <td>0.000000e+00</td>\n",
       "      <td>0.000000e+00</td>\n",
       "      <td>0.000000e+00</td>\n",
       "      <td>4.700000e+01</td>\n",
       "      <td>0.000000e+00</td>\n",
       "      <td>0.000000e+00</td>\n",
       "      <td>0.000000e+00</td>\n",
       "      <td>...</td>\n",
       "      <td>0.000000e+00</td>\n",
       "      <td>0.000000e+00</td>\n",
       "      <td>0.000000e+00</td>\n",
       "      <td>0.000000e+00</td>\n",
       "      <td>0.000000e+00</td>\n",
       "      <td>0.000000e+00</td>\n",
       "      <td>6.856000e+02</td>\n",
       "      <td>3.000000e+00</td>\n",
       "      <td>0.000000e+00</td>\n",
       "      <td>4.583000e-01</td>\n",
       "    </tr>\n",
       "    <tr>\n",
       "      <th>75%</th>\n",
       "      <td>0.000000e+00</td>\n",
       "      <td>2.000000e+00</td>\n",
       "      <td>1.860000e+02</td>\n",
       "      <td>1.000000e+00</td>\n",
       "      <td>0.000000e+00</td>\n",
       "      <td>2.000000e+00</td>\n",
       "      <td>7.100000e+01</td>\n",
       "      <td>1.172000e+03</td>\n",
       "      <td>1.000000e+00</td>\n",
       "      <td>1.000000e+00</td>\n",
       "      <td>...</td>\n",
       "      <td>0.000000e+00</td>\n",
       "      <td>1.909750e-01</td>\n",
       "      <td>0.000000e+00</td>\n",
       "      <td>0.000000e+00</td>\n",
       "      <td>0.000000e+00</td>\n",
       "      <td>0.000000e+00</td>\n",
       "      <td>1.976000e+03</td>\n",
       "      <td>5.000000e+00</td>\n",
       "      <td>1.495000e+03</td>\n",
       "      <td>7.407000e-01</td>\n",
       "    </tr>\n",
       "    <tr>\n",
       "      <th>max</th>\n",
       "      <td>2.200000e+01</td>\n",
       "      <td>3.300000e+01</td>\n",
       "      <td>6.616000e+03</td>\n",
       "      <td>5.300000e+01</td>\n",
       "      <td>6.400000e+01</td>\n",
       "      <td>8.000000e+01</td>\n",
       "      <td>1.010000e+02</td>\n",
       "      <td>2.170000e+03</td>\n",
       "      <td>7.200000e+01</td>\n",
       "      <td>2.000000e+01</td>\n",
       "      <td>...</td>\n",
       "      <td>3.900000e+01</td>\n",
       "      <td>4.071000e+04</td>\n",
       "      <td>1.800000e+01</td>\n",
       "      <td>3.823000e+03</td>\n",
       "      <td>1.200000e+01</td>\n",
       "      <td>5.000000e+00</td>\n",
       "      <td>2.578000e+04</td>\n",
       "      <td>2.360000e+02</td>\n",
       "      <td>2.013000e+03</td>\n",
       "      <td>1.000000e+00</td>\n",
       "    </tr>\n",
       "  </tbody>\n",
       "</table>\n",
       "<p>8 rows × 25 columns</p>\n",
       "</div>"
      ],
      "text/plain": [
       "            assists        boosts   damageDealt         DBNOs  headshotKills  \\\n",
       "count  4.446966e+06  4.446966e+06  4.446966e+06  4.446966e+06   4.446966e+06   \n",
       "mean   2.338149e-01  1.106908e+00  1.307171e+02  6.578755e-01   2.268196e-01   \n",
       "std    5.885731e-01  1.715794e+00  1.707806e+02  1.145743e+00   6.021553e-01   \n",
       "min    0.000000e+00  0.000000e+00  0.000000e+00  0.000000e+00   0.000000e+00   \n",
       "25%    0.000000e+00  0.000000e+00  0.000000e+00  0.000000e+00   0.000000e+00   \n",
       "50%    0.000000e+00  0.000000e+00  8.424000e+01  0.000000e+00   0.000000e+00   \n",
       "75%    0.000000e+00  2.000000e+00  1.860000e+02  1.000000e+00   0.000000e+00   \n",
       "max    2.200000e+01  3.300000e+01  6.616000e+03  5.300000e+01   6.400000e+01   \n",
       "\n",
       "              heals     killPlace    killPoints         kills   killStreaks  \\\n",
       "count  4.446966e+06  4.446966e+06  4.446966e+06  4.446966e+06  4.446966e+06   \n",
       "mean   1.370147e+00  4.759935e+01  5.050060e+02  9.247833e-01  5.439551e-01   \n",
       "std    2.679982e+00  2.746294e+01  6.275049e+02  1.558445e+00  7.109721e-01   \n",
       "min    0.000000e+00  1.000000e+00  0.000000e+00  0.000000e+00  0.000000e+00   \n",
       "25%    0.000000e+00  2.400000e+01  0.000000e+00  0.000000e+00  0.000000e+00   \n",
       "50%    0.000000e+00  4.700000e+01  0.000000e+00  0.000000e+00  0.000000e+00   \n",
       "75%    2.000000e+00  7.100000e+01  1.172000e+03  1.000000e+00  1.000000e+00   \n",
       "max    8.000000e+01  1.010000e+02  2.170000e+03  7.200000e+01  2.000000e+01   \n",
       "\n",
       "           ...            revives  rideDistance     roadKills  swimDistance  \\\n",
       "count      ...       4.446966e+06  4.446966e+06  4.446966e+06  4.446966e+06   \n",
       "mean       ...       1.646590e-01  6.061157e+02  3.496091e-03  4.509322e+00   \n",
       "std        ...       4.721671e-01  1.498344e+03  7.337297e-02  3.050220e+01   \n",
       "min        ...       0.000000e+00  0.000000e+00  0.000000e+00  0.000000e+00   \n",
       "25%        ...       0.000000e+00  0.000000e+00  0.000000e+00  0.000000e+00   \n",
       "50%        ...       0.000000e+00  0.000000e+00  0.000000e+00  0.000000e+00   \n",
       "75%        ...       0.000000e+00  1.909750e-01  0.000000e+00  0.000000e+00   \n",
       "max        ...       3.900000e+01  4.071000e+04  1.800000e+01  3.823000e+03   \n",
       "\n",
       "          teamKills  vehicleDestroys  walkDistance  weaponsAcquired  \\\n",
       "count  4.446966e+06     4.446966e+06  4.446966e+06     4.446966e+06   \n",
       "mean   2.386841e-02     7.918208e-03  1.154218e+03     3.660488e+00   \n",
       "std    1.673935e-01     9.261157e-02  1.183497e+03     2.456544e+00   \n",
       "min    0.000000e+00     0.000000e+00  0.000000e+00     0.000000e+00   \n",
       "25%    0.000000e+00     0.000000e+00  1.551000e+02     2.000000e+00   \n",
       "50%    0.000000e+00     0.000000e+00  6.856000e+02     3.000000e+00   \n",
       "75%    0.000000e+00     0.000000e+00  1.976000e+03     5.000000e+00   \n",
       "max    1.200000e+01     5.000000e+00  2.578000e+04     2.360000e+02   \n",
       "\n",
       "          winPoints  winPlacePerc  \n",
       "count  4.446966e+06  4.446965e+06  \n",
       "mean   6.064601e+02  4.728216e-01  \n",
       "std    7.397004e+02  3.074050e-01  \n",
       "min    0.000000e+00  0.000000e+00  \n",
       "25%    0.000000e+00  2.000000e-01  \n",
       "50%    0.000000e+00  4.583000e-01  \n",
       "75%    1.495000e+03  7.407000e-01  \n",
       "max    2.013000e+03  1.000000e+00  \n",
       "\n",
       "[8 rows x 25 columns]"
      ]
     },
     "execution_count": 45,
     "metadata": {},
     "output_type": "execute_result"
    }
   ],
   "source": [
    "train_data.describe()"
   ]
  },
  {
   "cell_type": "code",
   "execution_count": 46,
   "metadata": {
    "collapsed": false
   },
   "outputs": [
    {
     "name": "stdout",
     "output_type": "stream",
     "text": [
      "<class 'pandas.core.frame.DataFrame'>\n",
      "RangeIndex: 4446966 entries, 0 to 4446965\n",
      "Data columns (total 29 columns):\n",
      "Id                 object\n",
      "groupId            object\n",
      "matchId            object\n",
      "assists            int64\n",
      "boosts             int64\n",
      "damageDealt        float64\n",
      "DBNOs              int64\n",
      "headshotKills      int64\n",
      "heals              int64\n",
      "killPlace          int64\n",
      "killPoints         int64\n",
      "kills              int64\n",
      "killStreaks        int64\n",
      "longestKill        float64\n",
      "matchDuration      int64\n",
      "matchType          object\n",
      "maxPlace           int64\n",
      "numGroups          int64\n",
      "rankPoints         int64\n",
      "revives            int64\n",
      "rideDistance       float64\n",
      "roadKills          int64\n",
      "swimDistance       float64\n",
      "teamKills          int64\n",
      "vehicleDestroys    int64\n",
      "walkDistance       float64\n",
      "weaponsAcquired    int64\n",
      "winPoints          int64\n",
      "winPlacePerc       float64\n",
      "dtypes: float64(6), int64(19), object(4)\n",
      "memory usage: 983.9+ MB\n"
     ]
    }
   ],
   "source": [
    "train_data.info()"
   ]
  },
  {
   "cell_type": "code",
   "execution_count": 47,
   "metadata": {
    "collapsed": false
   },
   "outputs": [
    {
     "data": {
      "text/html": [
       "<div>\n",
       "<style>\n",
       "    .dataframe thead tr:only-child th {\n",
       "        text-align: right;\n",
       "    }\n",
       "\n",
       "    .dataframe thead th {\n",
       "        text-align: left;\n",
       "    }\n",
       "\n",
       "    .dataframe tbody tr th {\n",
       "        vertical-align: top;\n",
       "    }\n",
       "</style>\n",
       "<table border=\"1\" class=\"dataframe\">\n",
       "  <thead>\n",
       "    <tr style=\"text-align: right;\">\n",
       "      <th></th>\n",
       "      <th>Id</th>\n",
       "      <th>groupId</th>\n",
       "      <th>matchId</th>\n",
       "      <th>assists</th>\n",
       "      <th>boosts</th>\n",
       "      <th>damageDealt</th>\n",
       "      <th>DBNOs</th>\n",
       "      <th>headshotKills</th>\n",
       "      <th>heals</th>\n",
       "      <th>killPlace</th>\n",
       "      <th>...</th>\n",
       "      <th>revives</th>\n",
       "      <th>rideDistance</th>\n",
       "      <th>roadKills</th>\n",
       "      <th>swimDistance</th>\n",
       "      <th>teamKills</th>\n",
       "      <th>vehicleDestroys</th>\n",
       "      <th>walkDistance</th>\n",
       "      <th>weaponsAcquired</th>\n",
       "      <th>winPoints</th>\n",
       "      <th>winPlacePerc</th>\n",
       "    </tr>\n",
       "  </thead>\n",
       "  <tbody>\n",
       "    <tr>\n",
       "      <th>2744604</th>\n",
       "      <td>f70c74418bb064</td>\n",
       "      <td>12dfbede33f92b</td>\n",
       "      <td>224a123c53e008</td>\n",
       "      <td>0</td>\n",
       "      <td>0</td>\n",
       "      <td>0.0</td>\n",
       "      <td>0</td>\n",
       "      <td>0</td>\n",
       "      <td>0</td>\n",
       "      <td>1</td>\n",
       "      <td>...</td>\n",
       "      <td>0</td>\n",
       "      <td>0.0</td>\n",
       "      <td>0</td>\n",
       "      <td>0.0</td>\n",
       "      <td>0</td>\n",
       "      <td>0</td>\n",
       "      <td>0.0</td>\n",
       "      <td>0</td>\n",
       "      <td>0</td>\n",
       "      <td>NaN</td>\n",
       "    </tr>\n",
       "  </tbody>\n",
       "</table>\n",
       "<p>1 rows × 29 columns</p>\n",
       "</div>"
      ],
      "text/plain": [
       "                     Id         groupId         matchId  assists  boosts  \\\n",
       "2744604  f70c74418bb064  12dfbede33f92b  224a123c53e008        0       0   \n",
       "\n",
       "         damageDealt  DBNOs  headshotKills  heals  killPlace      ...       \\\n",
       "2744604          0.0      0              0      0          1      ...        \n",
       "\n",
       "         revives  rideDistance  roadKills  swimDistance  teamKills  \\\n",
       "2744604        0           0.0          0           0.0          0   \n",
       "\n",
       "        vehicleDestroys  walkDistance  weaponsAcquired  winPoints  \\\n",
       "2744604               0           0.0                0          0   \n",
       "\n",
       "         winPlacePerc  \n",
       "2744604           NaN  \n",
       "\n",
       "[1 rows x 29 columns]"
      ]
     },
     "execution_count": 47,
     "metadata": {},
     "output_type": "execute_result"
    }
   ],
   "source": [
    "# Let's start validating data by making sure every player placed at the end of the match\n",
    "# Let's check for a row with a NaN value in that column.\n",
    "train_data[train_data['winPlacePerc'].isnull()]"
   ]
  },
  {
   "cell_type": "code",
   "execution_count": 48,
   "metadata": {
    "collapsed": true
   },
   "outputs": [],
   "source": [
    "# Dropping that illegal match with only one player from the dataset.\n",
    "train_data.dropna(subset=['winPlacePerc'], inplace=True)"
   ]
  },
  {
   "cell_type": "code",
   "execution_count": 49,
   "metadata": {
    "collapsed": false
   },
   "outputs": [
    {
     "data": {
      "text/html": [
       "<div>\n",
       "<style>\n",
       "    .dataframe thead tr:only-child th {\n",
       "        text-align: right;\n",
       "    }\n",
       "\n",
       "    .dataframe thead th {\n",
       "        text-align: left;\n",
       "    }\n",
       "\n",
       "    .dataframe tbody tr th {\n",
       "        vertical-align: top;\n",
       "    }\n",
       "</style>\n",
       "<table border=\"1\" class=\"dataframe\">\n",
       "  <thead>\n",
       "    <tr style=\"text-align: right;\">\n",
       "      <th></th>\n",
       "      <th>Id</th>\n",
       "      <th>groupId</th>\n",
       "      <th>matchId</th>\n",
       "      <th>assists</th>\n",
       "      <th>boosts</th>\n",
       "      <th>damageDealt</th>\n",
       "      <th>DBNOs</th>\n",
       "      <th>headshotKills</th>\n",
       "      <th>heals</th>\n",
       "      <th>killPlace</th>\n",
       "      <th>...</th>\n",
       "      <th>revives</th>\n",
       "      <th>rideDistance</th>\n",
       "      <th>roadKills</th>\n",
       "      <th>swimDistance</th>\n",
       "      <th>teamKills</th>\n",
       "      <th>vehicleDestroys</th>\n",
       "      <th>walkDistance</th>\n",
       "      <th>weaponsAcquired</th>\n",
       "      <th>winPoints</th>\n",
       "      <th>winPlacePerc</th>\n",
       "    </tr>\n",
       "  </thead>\n",
       "  <tbody>\n",
       "    <tr>\n",
       "      <th>2744605</th>\n",
       "      <td>13521e925ce4ba</td>\n",
       "      <td>763e2f8deb3218</td>\n",
       "      <td>db4c00dd656acb</td>\n",
       "      <td>0</td>\n",
       "      <td>1</td>\n",
       "      <td>24.85</td>\n",
       "      <td>0</td>\n",
       "      <td>0</td>\n",
       "      <td>0</td>\n",
       "      <td>50</td>\n",
       "      <td>...</td>\n",
       "      <td>0</td>\n",
       "      <td>0.0</td>\n",
       "      <td>0</td>\n",
       "      <td>0.0</td>\n",
       "      <td>0</td>\n",
       "      <td>0</td>\n",
       "      <td>1288.0</td>\n",
       "      <td>3</td>\n",
       "      <td>0</td>\n",
       "      <td>0.7917</td>\n",
       "    </tr>\n",
       "  </tbody>\n",
       "</table>\n",
       "<p>1 rows × 29 columns</p>\n",
       "</div>"
      ],
      "text/plain": [
       "                     Id         groupId         matchId  assists  boosts  \\\n",
       "2744605  13521e925ce4ba  763e2f8deb3218  db4c00dd656acb        0       1   \n",
       "\n",
       "         damageDealt  DBNOs  headshotKills  heals  killPlace      ...       \\\n",
       "2744605        24.85      0              0      0         50      ...        \n",
       "\n",
       "         revives  rideDistance  roadKills  swimDistance  teamKills  \\\n",
       "2744605        0           0.0          0           0.0          0   \n",
       "\n",
       "        vehicleDestroys  walkDistance  weaponsAcquired  winPoints  \\\n",
       "2744605               0        1288.0                3          0   \n",
       "\n",
       "         winPlacePerc  \n",
       "2744605        0.7917  \n",
       "\n",
       "[1 rows x 29 columns]"
      ]
     },
     "execution_count": 49,
     "metadata": {},
     "output_type": "execute_result"
    }
   ],
   "source": [
    "# Confirming the player is gone.\n",
    "train_data.iloc[2744604:2744604+1]"
   ]
  },
  {
   "cell_type": "markdown",
   "metadata": {},
   "source": [
    "# Normalizing features"
   ]
  },
  {
   "cell_type": "code",
   "execution_count": 50,
   "metadata": {
    "collapsed": false
   },
   "outputs": [],
   "source": [
    "# A game in PUBG can have up to 100 players fighting each other, but most of the times a game isn't \"full\" at 100. \n",
    "# There is no variable that gives us the number of players who joined the match, but it would be good to create one\n",
    "# to help normalize the data.\n",
    "train_data['playersJoined'] = train_data.groupby('matchId')['matchId'].transform('count')"
   ]
  },
  {
   "cell_type": "code",
   "execution_count": 51,
   "metadata": {
    "collapsed": false
   },
   "outputs": [
    {
     "data": {
      "image/png": "[encoded data removed]",
      "text/plain": [
       "<matplotlib.figure.Figure at 0x23d2ada0>"
      ]
     },
     "metadata": {},
     "output_type": "display_data"
    }
   ],
   "source": [
    "data = train_data.copy()\n",
    "data = data[data['playersJoined']>49]\n",
    "plt.figure(figsize=(15,10))\n",
    "sns.countplot(data['playersJoined'])\n",
    "plt.title(\"Players Joined\",fontsize=15)\n",
    "plt.show()"
   ]
  },
  {
   "cell_type": "code",
   "execution_count": 52,
   "metadata": {
    "collapsed": false
   },
   "outputs": [
    {
     "data": {
      "text/html": [
       "<div>\n",
       "<style>\n",
       "    .dataframe thead tr:only-child th {\n",
       "        text-align: right;\n",
       "    }\n",
       "\n",
       "    .dataframe thead th {\n",
       "        text-align: left;\n",
       "    }\n",
       "\n",
       "    .dataframe tbody tr th {\n",
       "        vertical-align: top;\n",
       "    }\n",
       "</style>\n",
       "<table border=\"1\" class=\"dataframe\">\n",
       "  <thead>\n",
       "    <tr style=\"text-align: right;\">\n",
       "      <th></th>\n",
       "      <th>playersJoined</th>\n",
       "      <th>kills</th>\n",
       "      <th>killsNormalized</th>\n",
       "      <th>damageDealt</th>\n",
       "      <th>damageDealtNormalized</th>\n",
       "    </tr>\n",
       "  </thead>\n",
       "  <tbody>\n",
       "    <tr>\n",
       "      <th>5</th>\n",
       "      <td>95</td>\n",
       "      <td>1</td>\n",
       "      <td>1.05</td>\n",
       "      <td>100.000</td>\n",
       "      <td>105.00000</td>\n",
       "    </tr>\n",
       "    <tr>\n",
       "      <th>6</th>\n",
       "      <td>97</td>\n",
       "      <td>0</td>\n",
       "      <td>0.00</td>\n",
       "      <td>0.000</td>\n",
       "      <td>0.00000</td>\n",
       "    </tr>\n",
       "    <tr>\n",
       "      <th>7</th>\n",
       "      <td>96</td>\n",
       "      <td>0</td>\n",
       "      <td>0.00</td>\n",
       "      <td>8.538</td>\n",
       "      <td>8.87952</td>\n",
       "    </tr>\n",
       "  </tbody>\n",
       "</table>\n",
       "</div>"
      ],
      "text/plain": [
       "   playersJoined  kills  killsNormalized  damageDealt  damageDealtNormalized\n",
       "5             95      1             1.05      100.000              105.00000\n",
       "6             97      0             0.00        0.000                0.00000\n",
       "7             96      0             0.00        8.538                8.87952"
      ]
     },
     "execution_count": 52,
     "metadata": {},
     "output_type": "execute_result"
    }
   ],
   "source": [
    "# We need to figure out how to standardize the data, each match has a different number of players,\n",
    "# so we should normalize other features based on the amount of players.\n",
    "# Based on the \"playersJoined\" feature we can create (or change) a lot of others to normalize their values. \n",
    "# For example we can, create the \"killsNorm\" and \"damageDealtNorm\" features. \n",
    "# When there are 100 players in the game it might be easier to find and kill someone, than when there are 90 players. \n",
    "# So we can normalize the kills in a way that a kill in 100 players will score 1 (as it is) and in 90 players it will \n",
    "# score (100-90)/100 + 1 = 1.1. This is just an assumption and different scales could be used.\n",
    "\n",
    "train_data['killsNormalized'] = train_data['kills']*((100-train_data['playersJoined'])/100 + 1)\n",
    "train_data['damageDealtNormalized'] = train_data['damageDealt']*((100-train_data['playersJoined'])/100 + 1)\n",
    "train_data[['playersJoined', 'kills', 'killsNormalized', 'damageDealt', 'damageDealtNormalized']][5:8]"
   ]
  },
  {
   "cell_type": "code",
   "execution_count": 53,
   "metadata": {
    "collapsed": false
   },
   "outputs": [
    {
     "data": {
      "text/plain": [
       "array([   2.  ,    2.98,    3.96,    4.94,    5.92,    6.9 ,    7.88,\n",
       "          8.86,    9.84,   10.82,   11.8 ,   12.78,   13.76,   14.74,\n",
       "         15.72,   16.7 ,   17.68,   18.66,   19.64,   20.62,   21.6 ,\n",
       "         22.58,   23.56,   24.54,   25.52,   26.5 ,   27.48,   28.46,\n",
       "         29.44,   30.42,   31.4 ,   32.38,   33.36,   34.34,   35.32,\n",
       "         36.3 ,   37.28,   38.26,   39.24,   40.22,   41.2 ,   42.18,\n",
       "         43.16,   44.14,   45.12,   46.1 ,   47.08,   48.06,   49.04,\n",
       "         50.02,   51.  ,   51.98,   52.96,   53.94,   54.92,   55.9 ,\n",
       "         56.88,   57.86,   58.84,   59.82,   60.8 ,   61.78,   62.76,\n",
       "         63.74,   64.72,   65.7 ,   66.68,   67.66,   68.64,   69.62,\n",
       "         70.6 ,   71.58,   72.56,   73.54,   74.52,   75.5 ,   76.48,\n",
       "         77.46,   78.44,   79.42,   80.4 ,   81.38,   82.36,   83.34,\n",
       "         84.32,   85.3 ,   86.28,   87.26,   88.24,   89.22,   90.2 ,\n",
       "         91.18,   92.16,   93.14,   94.12,   95.1 ,   96.08,   97.06,\n",
       "         98.04,   99.02,  100.  ])"
      ]
     },
     "execution_count": 53,
     "metadata": {},
     "output_type": "execute_result"
    }
   ],
   "source": [
    "train_dummy = train_data\n",
    "#train_dummy.groupby(['matchId']).mean()\n",
    "playerCount = train_dummy.groupby(['matchId']).count()\n",
    "playerCount = playerCount[\"Id\"].values\n",
    "n, bins, patches = plt.hist(playerCount, bins=100)\n",
    "bins"
   ]
  },
  {
   "cell_type": "code",
   "execution_count": 54,
   "metadata": {
    "collapsed": false
   },
   "outputs": [
    {
     "name": "stdout",
     "output_type": "stream",
     "text": [
      "Mean player count: 92\n",
      "Median player count: 95\n",
      "Standard deviation of player count: 11\n"
     ]
    }
   ],
   "source": [
    "print((\"Mean player count: %d\") % np.mean(playerCount))\n",
    "print((\"Median player count: %d\") % np.ma.median(playerCount))\n",
    "print((\"Standard deviation of player count: %d\") % np.std(playerCount))"
   ]
  },
  {
   "cell_type": "code",
   "execution_count": 55,
   "metadata": {
    "collapsed": false
   },
   "outputs": [
    {
     "data": {
      "text/plain": [
       "(array([  1.00000000e+00,   0.00000000e+00,   0.00000000e+00,\n",
       "          1.00000000e+00,   2.00000000e+00,   1.30000000e+01,\n",
       "          2.40000000e+01,   2.00000000e+01,   1.40000000e+01,\n",
       "          2.40000000e+01,   2.10000000e+01,   1.90000000e+01,\n",
       "          3.60000000e+01,   5.00000000e+01,   1.05000000e+02,\n",
       "          1.18000000e+02,   1.32000000e+02,   6.50000000e+01,\n",
       "          3.10000000e+01,   1.30000000e+01,   1.10000000e+01,\n",
       "          1.40000000e+01,   1.00000000e+01,   8.00000000e+00,\n",
       "          8.00000000e+00,   5.00000000e+00,   1.30000000e+01,\n",
       "          9.00000000e+00,   1.70000000e+01,   4.00000000e+00,\n",
       "          9.00000000e+00,   6.00000000e+00,   3.00000000e+00,\n",
       "          1.00000000e+01,   1.40000000e+01,   2.20000000e+01,\n",
       "          3.10000000e+01,   2.80000000e+01,   4.90000000e+01,\n",
       "          1.30000000e+01,   1.20000000e+01,   6.00000000e+00,\n",
       "          1.20000000e+01,   8.00000000e+00,   1.10000000e+01,\n",
       "          1.60000000e+01,   1.80000000e+01,   1.00000000e+01,\n",
       "          1.20000000e+01,   0.00000000e+00,   1.20000000e+01,\n",
       "          1.20000000e+01,   1.30000000e+01,   1.50000000e+01,\n",
       "          1.60000000e+01,   2.40000000e+01,   2.50000000e+01,\n",
       "          3.00000000e+01,   3.30000000e+01,   3.40000000e+01,\n",
       "          2.50000000e+01,   3.30000000e+01,   4.30000000e+01,\n",
       "          4.50000000e+01,   1.20000000e+01,   1.00000000e+01,\n",
       "          1.60000000e+01,   1.40000000e+01,   1.30000000e+01,\n",
       "          1.40000000e+01,   1.20000000e+01,   1.30000000e+01,\n",
       "          2.10000000e+01,   2.80000000e+01,   2.20000000e+01,\n",
       "          2.20000000e+01,   2.70000000e+01,   5.40000000e+01,\n",
       "          5.70000000e+01,   5.60000000e+01,   9.40000000e+01,\n",
       "          9.90000000e+01,   1.66000000e+02,   2.32000000e+02,\n",
       "          2.71000000e+02,   4.36000000e+02,   5.42000000e+02,\n",
       "          7.65000000e+02,   1.05900000e+03,   1.54400000e+03,\n",
       "          2.01100000e+03,   2.83200000e+03,   3.64800000e+03,\n",
       "          4.59700000e+03,   5.59500000e+03,   6.16500000e+03,\n",
       "          6.07500000e+03,   5.54300000e+03,   3.04700000e+03,\n",
       "          1.41400000e+03]),\n",
       " array([-7.74367278, -7.66001705, -7.57636132, -7.49270559, -7.40904986,\n",
       "        -7.32539413, -7.2417384 , -7.15808268, -7.07442695, -6.99077122,\n",
       "        -6.90711549, -6.82345976, -6.73980403, -6.6561483 , -6.57249258,\n",
       "        -6.48883685, -6.40518112, -6.32152539, -6.23786966, -6.15421393,\n",
       "        -6.0705582 , -5.98690247, -5.90324675, -5.81959102, -5.73593529,\n",
       "        -5.65227956, -5.56862383, -5.4849681 , -5.40131237, -5.31765665,\n",
       "        -5.23400092, -5.15034519, -5.06668946, -4.98303373, -4.899378  ,\n",
       "        -4.81572227, -4.73206654, -4.64841082, -4.56475509, -4.48109936,\n",
       "        -4.39744363, -4.3137879 , -4.23013217, -4.14647644, -4.06282072,\n",
       "        -3.97916499, -3.89550926, -3.81185353, -3.7281978 , -3.64454207,\n",
       "        -3.56088634, -3.47723062, -3.39357489, -3.30991916, -3.22626343,\n",
       "        -3.1426077 , -3.05895197, -2.97529624, -2.89164051, -2.80798479,\n",
       "        -2.72432906, -2.64067333, -2.5570176 , -2.47336187, -2.38970614,\n",
       "        -2.30605041, -2.22239469, -2.13873896, -2.05508323, -1.9714275 ,\n",
       "        -1.88777177, -1.80411604, -1.72046031, -1.63680458, -1.55314886,\n",
       "        -1.46949313, -1.3858374 , -1.30218167, -1.21852594, -1.13487021,\n",
       "        -1.05121448, -0.96755876, -0.88390303, -0.8002473 , -0.71659157,\n",
       "        -0.63293584, -0.54928011, -0.46562438, -0.38196866, -0.29831293,\n",
       "        -0.2146572 , -0.13100147, -0.04734574,  0.03630999,  0.11996572,\n",
       "         0.20362145,  0.28727717,  0.3709329 ,  0.45458863,  0.53824436,\n",
       "         0.62190009]),\n",
       " <a list of 100 Patch objects>)"
      ]
     },
     "execution_count": 55,
     "metadata": {},
     "output_type": "execute_result"
    }
   ],
   "source": [
    "scaledCount = [0]*len(playerCount)\n",
    "i = 0\n",
    "for x in playerCount:\n",
    "    scaledCount[i] = ((x-np.mean(playerCount))/np.std(playerCount))\n",
    "    i = i + 1\n",
    "plt.hist(scaledCount, bins=100)\n",
    "#Normal standardization probably isn't effective"
   ]
  },
  {
   "cell_type": "markdown",
   "metadata": {},
   "source": [
    "# Categorical Variables"
   ]
  },
  {
   "cell_type": "code",
   "execution_count": 56,
   "metadata": {
    "collapsed": false
   },
   "outputs": [
    {
     "data": {
      "text/html": [
       "<div>\n",
       "<style>\n",
       "    .dataframe thead tr:only-child th {\n",
       "        text-align: right;\n",
       "    }\n",
       "\n",
       "    .dataframe thead th {\n",
       "        text-align: left;\n",
       "    }\n",
       "\n",
       "    .dataframe tbody tr th {\n",
       "        vertical-align: top;\n",
       "    }\n",
       "</style>\n",
       "<table border=\"1\" class=\"dataframe\">\n",
       "  <thead>\n",
       "    <tr style=\"text-align: right;\">\n",
       "      <th></th>\n",
       "      <th>Id</th>\n",
       "      <th>groupId</th>\n",
       "      <th>matchId</th>\n",
       "      <th>assists</th>\n",
       "      <th>boosts</th>\n",
       "      <th>damageDealt</th>\n",
       "      <th>DBNOs</th>\n",
       "      <th>headshotKills</th>\n",
       "      <th>heals</th>\n",
       "      <th>killPlace</th>\n",
       "      <th>...</th>\n",
       "      <th>teamKills</th>\n",
       "      <th>vehicleDestroys</th>\n",
       "      <th>walkDistance</th>\n",
       "      <th>weaponsAcquired</th>\n",
       "      <th>winPoints</th>\n",
       "      <th>winPlacePerc</th>\n",
       "      <th>playersJoined</th>\n",
       "      <th>killsNormalized</th>\n",
       "      <th>damageDealtNormalized</th>\n",
       "      <th>winBinary</th>\n",
       "    </tr>\n",
       "  </thead>\n",
       "  <tbody>\n",
       "    <tr>\n",
       "      <th>0</th>\n",
       "      <td>7f96b2f878858a</td>\n",
       "      <td>4d4b580de459be</td>\n",
       "      <td>a10357fd1a4a91</td>\n",
       "      <td>0</td>\n",
       "      <td>0</td>\n",
       "      <td>0.00</td>\n",
       "      <td>0</td>\n",
       "      <td>0</td>\n",
       "      <td>0</td>\n",
       "      <td>60</td>\n",
       "      <td>...</td>\n",
       "      <td>0</td>\n",
       "      <td>0</td>\n",
       "      <td>244.80</td>\n",
       "      <td>1</td>\n",
       "      <td>1466</td>\n",
       "      <td>0.4444</td>\n",
       "      <td>96</td>\n",
       "      <td>0.00</td>\n",
       "      <td>0.0000</td>\n",
       "      <td>0</td>\n",
       "    </tr>\n",
       "    <tr>\n",
       "      <th>1</th>\n",
       "      <td>eef90569b9d03c</td>\n",
       "      <td>684d5656442f9e</td>\n",
       "      <td>aeb375fc57110c</td>\n",
       "      <td>0</td>\n",
       "      <td>0</td>\n",
       "      <td>91.47</td>\n",
       "      <td>0</td>\n",
       "      <td>0</td>\n",
       "      <td>0</td>\n",
       "      <td>57</td>\n",
       "      <td>...</td>\n",
       "      <td>0</td>\n",
       "      <td>0</td>\n",
       "      <td>1434.00</td>\n",
       "      <td>5</td>\n",
       "      <td>0</td>\n",
       "      <td>0.6400</td>\n",
       "      <td>91</td>\n",
       "      <td>0.00</td>\n",
       "      <td>99.7023</td>\n",
       "      <td>0</td>\n",
       "    </tr>\n",
       "    <tr>\n",
       "      <th>2</th>\n",
       "      <td>1eaf90ac73de72</td>\n",
       "      <td>6a4a42c3245a74</td>\n",
       "      <td>110163d8bb94ae</td>\n",
       "      <td>1</td>\n",
       "      <td>0</td>\n",
       "      <td>68.00</td>\n",
       "      <td>0</td>\n",
       "      <td>0</td>\n",
       "      <td>0</td>\n",
       "      <td>47</td>\n",
       "      <td>...</td>\n",
       "      <td>0</td>\n",
       "      <td>0</td>\n",
       "      <td>161.80</td>\n",
       "      <td>2</td>\n",
       "      <td>0</td>\n",
       "      <td>0.7755</td>\n",
       "      <td>98</td>\n",
       "      <td>0.00</td>\n",
       "      <td>69.3600</td>\n",
       "      <td>0</td>\n",
       "    </tr>\n",
       "    <tr>\n",
       "      <th>3</th>\n",
       "      <td>4616d365dd2853</td>\n",
       "      <td>a930a9c79cd721</td>\n",
       "      <td>f1f1f4ef412d7e</td>\n",
       "      <td>0</td>\n",
       "      <td>0</td>\n",
       "      <td>32.90</td>\n",
       "      <td>0</td>\n",
       "      <td>0</td>\n",
       "      <td>0</td>\n",
       "      <td>75</td>\n",
       "      <td>...</td>\n",
       "      <td>0</td>\n",
       "      <td>0</td>\n",
       "      <td>202.70</td>\n",
       "      <td>3</td>\n",
       "      <td>0</td>\n",
       "      <td>0.1667</td>\n",
       "      <td>91</td>\n",
       "      <td>0.00</td>\n",
       "      <td>35.8610</td>\n",
       "      <td>0</td>\n",
       "    </tr>\n",
       "    <tr>\n",
       "      <th>4</th>\n",
       "      <td>315c96c26c9aac</td>\n",
       "      <td>de04010b3458dd</td>\n",
       "      <td>6dc8ff871e21e6</td>\n",
       "      <td>0</td>\n",
       "      <td>0</td>\n",
       "      <td>100.00</td>\n",
       "      <td>0</td>\n",
       "      <td>0</td>\n",
       "      <td>0</td>\n",
       "      <td>45</td>\n",
       "      <td>...</td>\n",
       "      <td>0</td>\n",
       "      <td>0</td>\n",
       "      <td>49.75</td>\n",
       "      <td>2</td>\n",
       "      <td>0</td>\n",
       "      <td>0.1875</td>\n",
       "      <td>97</td>\n",
       "      <td>1.03</td>\n",
       "      <td>103.0000</td>\n",
       "      <td>0</td>\n",
       "    </tr>\n",
       "  </tbody>\n",
       "</table>\n",
       "<p>5 rows × 33 columns</p>\n",
       "</div>"
      ],
      "text/plain": [
       "               Id         groupId         matchId  assists  boosts  \\\n",
       "0  7f96b2f878858a  4d4b580de459be  a10357fd1a4a91        0       0   \n",
       "1  eef90569b9d03c  684d5656442f9e  aeb375fc57110c        0       0   \n",
       "2  1eaf90ac73de72  6a4a42c3245a74  110163d8bb94ae        1       0   \n",
       "3  4616d365dd2853  a930a9c79cd721  f1f1f4ef412d7e        0       0   \n",
       "4  315c96c26c9aac  de04010b3458dd  6dc8ff871e21e6        0       0   \n",
       "\n",
       "   damageDealt  DBNOs  headshotKills  heals  killPlace    ...      teamKills  \\\n",
       "0         0.00      0              0      0         60    ...              0   \n",
       "1        91.47      0              0      0         57    ...              0   \n",
       "2        68.00      0              0      0         47    ...              0   \n",
       "3        32.90      0              0      0         75    ...              0   \n",
       "4       100.00      0              0      0         45    ...              0   \n",
       "\n",
       "   vehicleDestroys  walkDistance  weaponsAcquired  winPoints winPlacePerc  \\\n",
       "0                0        244.80                1       1466       0.4444   \n",
       "1                0       1434.00                5          0       0.6400   \n",
       "2                0        161.80                2          0       0.7755   \n",
       "3                0        202.70                3          0       0.1667   \n",
       "4                0         49.75                2          0       0.1875   \n",
       "\n",
       "   playersJoined  killsNormalized  damageDealtNormalized  winBinary  \n",
       "0             96             0.00                 0.0000          0  \n",
       "1             91             0.00                99.7023          0  \n",
       "2             98             0.00                69.3600          0  \n",
       "3             91             0.00                35.8610          0  \n",
       "4             97             1.03               103.0000          0  \n",
       "\n",
       "[5 rows x 33 columns]"
      ]
     },
     "execution_count": 56,
     "metadata": {},
     "output_type": "execute_result"
    }
   ],
   "source": [
    "# Creating a column that determines if a player won the game or not\n",
    "train_data['winBinary'] = train_data['winPlacePerc']\n",
    "def makeDummieVar(winPercent):\n",
    "    if (winPercent < 1.0):\n",
    "        winPercent = 0\n",
    "    else:\n",
    "        winPercent = 1\n",
    "    return winPercent\n",
    "\n",
    "train_data['winBinary'] = train_data['winBinary'].apply(makeDummieVar)\n",
    "train_data.head(5)"
   ]
  },
  {
   "cell_type": "code",
   "execution_count": 57,
   "metadata": {
    "collapsed": false
   },
   "outputs": [
    {
     "data": {
      "text/plain": [
       "array(['crashfpp', 'crashtpp', 'duo', 'duo-fpp', 'flarefpp', 'flaretpp',\n",
       "       'normal-duo', 'normal-duo-fpp', 'normal-solo', 'normal-solo-fpp',\n",
       "       'normal-squad', 'normal-squad-fpp', 'solo', 'solo-fpp', 'squad',\n",
       "       'squad-fpp'], dtype=object)"
      ]
     },
     "execution_count": 57,
     "metadata": {},
     "output_type": "execute_result"
    }
   ],
   "source": [
    "np.unique(train_data['matchType'])"
   ]
  },
  {
   "cell_type": "code",
   "execution_count": 58,
   "metadata": {
    "collapsed": false
   },
   "outputs": [
    {
     "data": {
      "text/plain": [
       "array(['duo', 'duo-fpp', 'solo', 'solo-fpp', 'squad', 'squad-fpp'], dtype=object)"
      ]
     },
     "execution_count": 58,
     "metadata": {},
     "output_type": "execute_result"
    }
   ],
   "source": [
    "# To make things less complicated, we should only look at standard matches.\n",
    "# According to the given information, the standard modes are:\n",
    "# “solo”, “duo”, “squad”, “solo-fpp”, “duo-fpp”, and “squad-fpp”.\n",
    "# (The -fpp appeneded means the game forced all players to use a \"first-person perspective\",\n",
    "# rather, than giving them the option between first-person and third-person to switch between.)\n",
    "train_data = train_data[(train_data.matchType == 'solo') | (train_data.matchType == 'duo') |\n",
    "                        (train_data.matchType == 'squad') | (train_data.matchType == 'solo-fpp') |\n",
    "                        (train_data.matchType == 'duo-fpp') | (train_data.matchType == 'squad-fpp')]\n",
    "np.unique(train_data['matchType'])"
   ]
  },
  {
   "cell_type": "code",
   "execution_count": 59,
   "metadata": {
    "collapsed": true
   },
   "outputs": [],
   "source": [
    "sample = 5000\n",
    "train_data = train_data.sample(sample)"
   ]
  },
  {
   "cell_type": "code",
   "execution_count": 60,
   "metadata": {
    "collapsed": false
   },
   "outputs": [],
   "source": [
    "# Drop Id column, because it probably won't be useful for our Machine Learning algorithm,\n",
    "# because the test set contains different Id's\n",
    "train_data.drop(['Id'], inplace=True, axis=1)"
   ]
  },
  {
   "cell_type": "code",
   "execution_count": 61,
   "metadata": {
    "collapsed": true
   },
   "outputs": [],
   "source": [
    "# Need to \"One hot encode\" the matchType feature to \n",
    "# perform “binarization” of the category and include it as a feature to train the model.\n",
    "# This converts the categorical matchType variable into a form that could be provided to \n",
    "# ML algorithms to do a better job in prediction.\n",
    "\n",
    "train_data = pd.get_dummies(train_data, columns=['matchType'])"
   ]
  },
  {
   "cell_type": "code",
   "execution_count": 62,
   "metadata": {
    "collapsed": false
   },
   "outputs": [
    {
     "data": {
      "text/html": [
       "<div>\n",
       "<style>\n",
       "    .dataframe thead tr:only-child th {\n",
       "        text-align: right;\n",
       "    }\n",
       "\n",
       "    .dataframe thead th {\n",
       "        text-align: left;\n",
       "    }\n",
       "\n",
       "    .dataframe tbody tr th {\n",
       "        vertical-align: top;\n",
       "    }\n",
       "</style>\n",
       "<table border=\"1\" class=\"dataframe\">\n",
       "  <thead>\n",
       "    <tr style=\"text-align: right;\">\n",
       "      <th></th>\n",
       "      <th>matchType_duo</th>\n",
       "      <th>matchType_duo-fpp</th>\n",
       "      <th>matchType_solo</th>\n",
       "      <th>matchType_solo-fpp</th>\n",
       "      <th>matchType_squad</th>\n",
       "      <th>matchType_squad-fpp</th>\n",
       "    </tr>\n",
       "  </thead>\n",
       "  <tbody>\n",
       "    <tr>\n",
       "      <th>967044</th>\n",
       "      <td>0</td>\n",
       "      <td>0</td>\n",
       "      <td>0</td>\n",
       "      <td>0</td>\n",
       "      <td>1</td>\n",
       "      <td>0</td>\n",
       "    </tr>\n",
       "    <tr>\n",
       "      <th>930601</th>\n",
       "      <td>0</td>\n",
       "      <td>0</td>\n",
       "      <td>0</td>\n",
       "      <td>0</td>\n",
       "      <td>1</td>\n",
       "      <td>0</td>\n",
       "    </tr>\n",
       "    <tr>\n",
       "      <th>169890</th>\n",
       "      <td>0</td>\n",
       "      <td>0</td>\n",
       "      <td>1</td>\n",
       "      <td>0</td>\n",
       "      <td>0</td>\n",
       "      <td>0</td>\n",
       "    </tr>\n",
       "    <tr>\n",
       "      <th>4106692</th>\n",
       "      <td>0</td>\n",
       "      <td>0</td>\n",
       "      <td>0</td>\n",
       "      <td>0</td>\n",
       "      <td>0</td>\n",
       "      <td>1</td>\n",
       "    </tr>\n",
       "    <tr>\n",
       "      <th>4365332</th>\n",
       "      <td>0</td>\n",
       "      <td>0</td>\n",
       "      <td>0</td>\n",
       "      <td>0</td>\n",
       "      <td>0</td>\n",
       "      <td>1</td>\n",
       "    </tr>\n",
       "  </tbody>\n",
       "</table>\n",
       "</div>"
      ],
      "text/plain": [
       "         matchType_duo  matchType_duo-fpp  matchType_solo  matchType_solo-fpp  \\\n",
       "967044               0                  0               0                   0   \n",
       "930601               0                  0               0                   0   \n",
       "169890               0                  0               1                   0   \n",
       "4106692              0                  0               0                   0   \n",
       "4365332              0                  0               0                   0   \n",
       "\n",
       "         matchType_squad  matchType_squad-fpp  \n",
       "967044                 1                    0  \n",
       "930601                 1                    0  \n",
       "169890                 0                    0  \n",
       "4106692                0                    1  \n",
       "4365332                0                    1  "
      ]
     },
     "execution_count": 62,
     "metadata": {},
     "output_type": "execute_result"
    }
   ],
   "source": [
    "# Taking a look at the encoding.\n",
    "matchType_encoding = train_data.filter(regex='matchType')\n",
    "matchType_encoding.head()"
   ]
  },
  {
   "cell_type": "code",
   "execution_count": 63,
   "metadata": {
    "collapsed": true
   },
   "outputs": [],
   "source": [
    "# matchId's and groupId's are the other categorical variables. There are a ton of different ones so\n",
    "# one hot encoding them makes no sense, but there could still be corrleations between them, as one\n",
    "# match will have different charcteristics than the next, and the same goes for groups, so we should\n",
    "# categorize them with Pandas."
   ]
  },
  {
   "cell_type": "code",
   "execution_count": 64,
   "metadata": {
    "collapsed": false
   },
   "outputs": [
    {
     "data": {
      "text/html": [
       "<div>\n",
       "<style>\n",
       "    .dataframe thead tr:only-child th {\n",
       "        text-align: right;\n",
       "    }\n",
       "\n",
       "    .dataframe thead th {\n",
       "        text-align: left;\n",
       "    }\n",
       "\n",
       "    .dataframe tbody tr th {\n",
       "        vertical-align: top;\n",
       "    }\n",
       "</style>\n",
       "<table border=\"1\" class=\"dataframe\">\n",
       "  <thead>\n",
       "    <tr style=\"text-align: right;\">\n",
       "      <th></th>\n",
       "      <th>groupId_cat</th>\n",
       "      <th>matchId_cat</th>\n",
       "    </tr>\n",
       "  </thead>\n",
       "  <tbody>\n",
       "    <tr>\n",
       "      <th>967044</th>\n",
       "      <td>3137</td>\n",
       "      <td>4362</td>\n",
       "    </tr>\n",
       "    <tr>\n",
       "      <th>930601</th>\n",
       "      <td>3157</td>\n",
       "      <td>655</td>\n",
       "    </tr>\n",
       "    <tr>\n",
       "      <th>169890</th>\n",
       "      <td>1000</td>\n",
       "      <td>3750</td>\n",
       "    </tr>\n",
       "    <tr>\n",
       "      <th>4106692</th>\n",
       "      <td>4412</td>\n",
       "      <td>3753</td>\n",
       "    </tr>\n",
       "    <tr>\n",
       "      <th>4365332</th>\n",
       "      <td>3447</td>\n",
       "      <td>2232</td>\n",
       "    </tr>\n",
       "  </tbody>\n",
       "</table>\n",
       "</div>"
      ],
      "text/plain": [
       "         groupId_cat  matchId_cat\n",
       "967044          3137         4362\n",
       "930601          3157          655\n",
       "169890          1000         3750\n",
       "4106692         4412         3753\n",
       "4365332         3447         2232"
      ]
     },
     "execution_count": 64,
     "metadata": {},
     "output_type": "execute_result"
    }
   ],
   "source": [
    "train_data['groupId'] = train_data['groupId'].astype('category')\n",
    "train_data['matchId'] = train_data['matchId'].astype('category')\n",
    "\n",
    "# Get category coding for groupId and matchID\n",
    "train_data['groupId_cat'] = train_data['groupId'].cat.codes\n",
    "train_data['matchId_cat'] = train_data['matchId'].cat.codes\n",
    "\n",
    "# Get rid of old columns\n",
    "train_data.drop(['groupId', 'matchId'], inplace=True, axis=1)\n",
    "\n",
    "train_data[['groupId_cat', 'matchId_cat']].head()"
   ]
  },
  {
   "cell_type": "markdown",
   "metadata": {},
   "source": [
    "# Feature Selection"
   ]
  },
  {
   "cell_type": "code",
   "execution_count": 65,
   "metadata": {
    "collapsed": true
   },
   "outputs": [],
   "source": [
    "# from sklearn.linear_model import LogisticRegression\n",
    "# logReg = LogisticRegression()"
   ]
  },
  {
   "cell_type": "code",
   "execution_count": 66,
   "metadata": {
    "collapsed": false
   },
   "outputs": [],
   "source": [
    "wpp = train_data['winPlacePerc']\n",
    "train_data.drop(labels=['winPlacePerc'], axis=1,inplace = True)\n",
    "train_data.insert(36, 'winPlacePerc', wpp)"
   ]
  },
  {
   "cell_type": "code",
   "execution_count": 67,
   "metadata": {
    "collapsed": false
   },
   "outputs": [
    {
     "name": "stdout",
     "output_type": "stream",
     "text": [
      "<class 'pandas.core.frame.DataFrame'>\n",
      "Int64Index: 5000 entries, 967044 to 4354560\n",
      "Data columns (total 37 columns):\n",
      "assists                  5000 non-null int64\n",
      "boosts                   5000 non-null int64\n",
      "damageDealt              5000 non-null float64\n",
      "DBNOs                    5000 non-null int64\n",
      "headshotKills            5000 non-null int64\n",
      "heals                    5000 non-null int64\n",
      "killPlace                5000 non-null int64\n",
      "killPoints               5000 non-null int64\n",
      "kills                    5000 non-null int64\n",
      "killStreaks              5000 non-null int64\n",
      "longestKill              5000 non-null float64\n",
      "matchDuration            5000 non-null int64\n",
      "maxPlace                 5000 non-null int64\n",
      "numGroups                5000 non-null int64\n",
      "rankPoints               5000 non-null int64\n",
      "revives                  5000 non-null int64\n",
      "rideDistance             5000 non-null float64\n",
      "roadKills                5000 non-null int64\n",
      "swimDistance             5000 non-null float64\n",
      "teamKills                5000 non-null int64\n",
      "vehicleDestroys          5000 non-null int64\n",
      "walkDistance             5000 non-null float64\n",
      "weaponsAcquired          5000 non-null int64\n",
      "winPoints                5000 non-null int64\n",
      "playersJoined            5000 non-null int64\n",
      "killsNormalized          5000 non-null float64\n",
      "damageDealtNormalized    5000 non-null float64\n",
      "winBinary                5000 non-null int64\n",
      "matchType_duo            5000 non-null uint8\n",
      "matchType_duo-fpp        5000 non-null uint8\n",
      "matchType_solo           5000 non-null uint8\n",
      "matchType_solo-fpp       5000 non-null uint8\n",
      "matchType_squad          5000 non-null uint8\n",
      "matchType_squad-fpp      5000 non-null uint8\n",
      "groupId_cat              5000 non-null int16\n",
      "matchId_cat              5000 non-null int16\n",
      "winPlacePerc             5000 non-null float64\n",
      "dtypes: float64(8), int16(2), int64(21), uint8(6)\n",
      "memory usage: 1.2 MB\n"
     ]
    }
   ],
   "source": [
    "train_data.info()"
   ]
  },
  {
   "cell_type": "code",
   "execution_count": 68,
   "metadata": {
    "collapsed": true
   },
   "outputs": [],
   "source": [
    "from sklearn.model_selection import train_test_split\n",
    "from sklearn.ensemble import ExtraTreesRegressor\n",
    "\n",
    "# Take sample for debugging and exploration\n",
    "#sample = 50000\n",
    "#df_sample = train_data.sample(sample)\n",
    "df_sample = train_data"
   ]
  },
  {
   "cell_type": "code",
   "execution_count": 69,
   "metadata": {
    "collapsed": false
   },
   "outputs": [],
   "source": [
    "df_sample = train_data"
   ]
  },
  {
   "cell_type": "code",
   "execution_count": 70,
   "metadata": {
    "collapsed": false
   },
   "outputs": [
    {
     "name": "stdout",
     "output_type": "stream",
     "text": [
      "X_train.shape (3500, 36), X_test.shape (1500, 36)\n",
      "y_train.shape (3500L,), y_test.shape (1500L,)\n"
     ]
    }
   ],
   "source": [
    "# Split sample into training data and target variable\n",
    "X = df_sample.drop('winPlacePerc', inplace=False, axis=1) #all columns except target.\n",
    "y = df_sample['winPlacePerc'] # Only target variable\n",
    "X_train, X_test, y_train, y_test = train_test_split(X, y, test_size=0.3, random_state=22,shuffle=True)\n",
    "print('X_train.shape %s, X_test.shape %s\\ny_train.shape %s, y_test.shape %s'%(X_train.shape,X_test.shape,y_train.shape,y_test.shape))\n",
    "\n"
   ]
  },
  {
   "cell_type": "markdown",
   "metadata": {
    "collapsed": true
   },
   "source": [
    "from sklearn.preprocessing import StandardScaler\n",
    "scaler = StandardScaler(copy=False)\n",
    "# Fit only to the training data\n",
    "scaler.fit(X_train)\n",
    "Scaled_X_train = scaler.transform(X_train)\n",
    "Scaled_X_test = scaler.transform(X_test)\n"
   ]
  },
  {
   "cell_type": "markdown",
   "metadata": {},
   "source": [
    "# Running two features selection models to find the top 3 features and finding the time of each\n",
    "\n",
    "from time import time\n",
    "from sklearn import preprocessing\n",
    "from sklearn import utils\n",
    "\n",
    "#Of the 8 selected values, here we are finidng which features are the most important\n",
    "array = train_data.values\n",
    "X = array[:,0:36]\n",
    "Y = array[:,36]"
   ]
  },
  {
   "cell_type": "markdown",
   "metadata": {
    "collapsed": true
   },
   "source": [
    "X = X[:, None]\n",
    "Y = Y[:, None]"
   ]
  },
  {
   "cell_type": "code",
   "execution_count": 72,
   "metadata": {
    "collapsed": false
   },
   "outputs": [],
   "source": [
    "# Metric used for the PUBG competition (Mean Absolute Error (MAE))\n",
    "from sklearn.metrics import mean_absolute_error\n",
    "\n",
    "# Function to print the MAE (Mean Absolute Error) score\n",
    "# This is the metric used by Kaggle in this competition\n",
    "#def print_score(m : RandomForestRegressor):\n",
    " #   res = ['mae train: ', mean_absolute_error(m.predict(X_train), y_train), \n",
    "          # 'mae val: ', mean_absolute_error(m.predict(X_valid), y_valid)]\n",
    "    #if hasattr(m, 'oob_score_'): res.append(m.oob_score_)\n",
    "#print(res)"
   ]
  },
  {
   "cell_type": "code",
   "execution_count": 73,
   "metadata": {
    "collapsed": false
   },
   "outputs": [
    {
     "data": {
      "text/plain": [
       "RandomForestRegressor(bootstrap=True, criterion='mae', max_depth=500,\n",
       "           max_features=None, max_leaf_nodes=None,\n",
       "           min_impurity_decrease=0.0, min_impurity_split=None,\n",
       "           min_samples_leaf=1, min_samples_split=2,\n",
       "           min_weight_fraction_leaf=0.0, n_estimators=75, n_jobs=1,\n",
       "           oob_score=False, random_state=None, verbose=0, warm_start=False)"
      ]
     },
     "execution_count": 73,
     "metadata": {},
     "output_type": "execute_result"
    }
   ],
   "source": [
    "from sklearn.ensemble import RandomForestRegressor\n",
    "# mse is the criteron for the dataset\n",
    "rfr = RandomForestRegressor(max_depth=500,criterion='mae',\n",
    "                            max_features=None,n_estimators=75,bootstrap=True,\n",
    "                            min_samples_leaf=1,n_jobs=1,min_samples_split=2)\n",
    "rfr.fit(X_train,y_train)\n"
   ]
  },
  {
   "cell_type": "code",
   "execution_count": 74,
   "metadata": {
    "collapsed": false
   },
   "outputs": [
    {
     "name": "stdout",
     "output_type": "stream",
     "text": [
      "['mae train: ', 0.25423146285714282, 'mae val: ', 0.25111510577777774]\n"
     ]
    }
   ],
   "source": [
    "#print_score(rfr)\n",
    "res = ['mae train: ', mean_absolute_error(rfr.predict(X_train), y_train), \n",
    "           'mae val: ', mean_absolute_error(rfr.predict(X_test), y_test)]\n",
    "if hasattr(rfr, 'oob_score_'): res.append(rfr.oob_score_)\n",
    "print(res)"
   ]
  },
  {
   "cell_type": "code",
   "execution_count": 75,
   "metadata": {
    "collapsed": true
   },
   "outputs": [],
   "source": [
    "from sklearn.metrics import mean_squared_error, r2_score"
   ]
  },
  {
   "cell_type": "code",
   "execution_count": 76,
   "metadata": {
    "collapsed": false
   },
   "outputs": [
    {
     "name": "stdout",
     "output_type": "stream",
     "text": [
      "Variance score (r2_score): 0.883661\n",
      "Model accuracy:88.37 \n"
     ]
    }
   ],
   "source": [
    "y_pred_rfr = rfr.predict(X_test)\n",
    "# r2_score score: 1 is perfect prediction\n",
    "rfr_score=r2_score(y_pred=y_pred_rfr,y_true=y_test)\n",
    "print(\"Variance score (r2_score): %f\"%rfr_score)\n",
    "print('Model accuracy:%.2f '%(rfr_score*100))"
   ]
  },
  {
   "cell_type": "code",
   "execution_count": 77,
   "metadata": {
    "collapsed": false
   },
   "outputs": [
    {
     "name": "stderr",
     "output_type": "stream",
     "text": [
      "C:\\Users\\Charlie2\\Anaconda2\\lib\\site-packages\\ipykernel\\__main__.py:2: DeprecationWarning: \n",
      ".ix is deprecated. Please use\n",
      ".loc for label based indexing or\n",
      ".iloc for positional indexing\n",
      "\n",
      "See the documentation here:\n",
      "http://pandas.pydata.org/pandas-docs/stable/indexing.html#ix-indexer-is-deprecated\n",
      "  from ipykernel import kernelapp as app\n"
     ]
    },
    {
     "data": {
      "text/html": [
       "<div>\n",
       "<style>\n",
       "    .dataframe thead tr:only-child th {\n",
       "        text-align: right;\n",
       "    }\n",
       "\n",
       "    .dataframe thead th {\n",
       "        text-align: left;\n",
       "    }\n",
       "\n",
       "    .dataframe tbody tr th {\n",
       "        vertical-align: top;\n",
       "    }\n",
       "</style>\n",
       "<table border=\"1\" class=\"dataframe\">\n",
       "  <thead>\n",
       "    <tr style=\"text-align: right;\">\n",
       "      <th></th>\n",
       "      <th>Random Forest Predicted</th>\n",
       "      <th>Actual</th>\n",
       "    </tr>\n",
       "  </thead>\n",
       "  <tbody>\n",
       "    <tr>\n",
       "      <th>0</th>\n",
       "      <td>0.079565</td>\n",
       "      <td>0.0000</td>\n",
       "    </tr>\n",
       "    <tr>\n",
       "      <th>1</th>\n",
       "      <td>0.536459</td>\n",
       "      <td>0.6875</td>\n",
       "    </tr>\n",
       "    <tr>\n",
       "      <th>2</th>\n",
       "      <td>0.821248</td>\n",
       "      <td>0.9630</td>\n",
       "    </tr>\n",
       "    <tr>\n",
       "      <th>3</th>\n",
       "      <td>0.604904</td>\n",
       "      <td>0.6154</td>\n",
       "    </tr>\n",
       "    <tr>\n",
       "      <th>4</th>\n",
       "      <td>0.762304</td>\n",
       "      <td>0.8000</td>\n",
       "    </tr>\n",
       "    <tr>\n",
       "      <th>5</th>\n",
       "      <td>0.280073</td>\n",
       "      <td>0.2917</td>\n",
       "    </tr>\n",
       "    <tr>\n",
       "      <th>6</th>\n",
       "      <td>0.181584</td>\n",
       "      <td>0.1364</td>\n",
       "    </tr>\n",
       "    <tr>\n",
       "      <th>7</th>\n",
       "      <td>0.822052</td>\n",
       "      <td>0.7200</td>\n",
       "    </tr>\n",
       "    <tr>\n",
       "      <th>8</th>\n",
       "      <td>0.278768</td>\n",
       "      <td>0.2593</td>\n",
       "    </tr>\n",
       "    <tr>\n",
       "      <th>9</th>\n",
       "      <td>0.763428</td>\n",
       "      <td>0.6897</td>\n",
       "    </tr>\n",
       "  </tbody>\n",
       "</table>\n",
       "</div>"
      ],
      "text/plain": [
       "   Random Forest Predicted  Actual\n",
       "0                 0.079565  0.0000\n",
       "1                 0.536459  0.6875\n",
       "2                 0.821248  0.9630\n",
       "3                 0.604904  0.6154\n",
       "4                 0.762304  0.8000\n",
       "5                 0.280073  0.2917\n",
       "6                 0.181584  0.1364\n",
       "7                 0.822052  0.7200\n",
       "8                 0.278768  0.2593\n",
       "9                 0.763428  0.6897"
      ]
     },
     "execution_count": 77,
     "metadata": {},
     "output_type": "execute_result"
    }
   ],
   "source": [
    "RFpredictions = pd.DataFrame(data=y_pred_rfr)\n",
    "frames = [RFpredictions, y_test.reset_index().ix[:,1]]\n",
    "modelTest = pd.concat(frames, axis=1)\n",
    "modelTest.columns = [\"Random Forest Predicted\", \"Actual\"]\n",
    "modelTest.head(10)"
   ]
  },
  {
   "cell_type": "code",
   "execution_count": 105,
   "metadata": {
    "collapsed": false
   },
   "outputs": [],
   "source": [
    "indices\n",
    "featureNames = [0] * 36\n",
    "for f in range(len(indices)):\n",
    "    featureNames[f] = list(train_data)[indices[f]]"
   ]
  },
  {
   "cell_type": "code",
   "execution_count": 100,
   "metadata": {
    "collapsed": false
   },
   "outputs": [
    {
     "name": "stdout",
     "output_type": "stream",
     "text": [
      "Feature ranking:\n",
      "1. walkDistance (0.532441)\n",
      "2. killPlace (0.186905)\n",
      "3. matchDuration (0.026644)\n",
      "4. playersJoined (0.023793)\n",
      "5. numGroups (0.023720)\n",
      "6. groupId_cat (0.020244)\n",
      "7. matchId_cat (0.018659)\n",
      "8. winBinary (0.017282)\n",
      "9. maxPlace (0.016891)\n",
      "10. longestKill (0.012966)\n",
      "11. rankPoints (0.011365)\n",
      "12. boosts (0.010998)\n",
      "13. weaponsAcquired (0.010447)\n",
      "14. damageDealtNormalized (0.010401)\n",
      "15. damageDealt (0.009523)\n",
      "16. winPoints (0.007934)\n",
      "17. rideDistance (0.007869)\n",
      "18. killPoints (0.007222)\n",
      "19. heals (0.007119)\n",
      "20. DBNOs (0.006882)\n",
      "21. killsNormalized (0.006557)\n",
      "22. assists (0.002859)\n",
      "23. matchType_squad (0.002684)\n",
      "24. revives (0.002575)\n",
      "25. killStreaks (0.002212)\n",
      "26. swimDistance (0.002166)\n",
      "27. headshotKills (0.001886)\n",
      "28. matchType_squad-fpp (0.001829)\n",
      "29. kills (0.001783)\n",
      "30. matchType_duo-fpp (0.001483)\n",
      "31. matchType_duo (0.001347)\n",
      "32. teamKills (0.000962)\n",
      "33. matchType_solo (0.000875)\n",
      "34. matchType_solo-fpp (0.000853)\n",
      "35. roadKills (0.000341)\n",
      "36. vehicleDestroys (0.000284)\n"
     ]
    },
    {
     "data": {
      "image/png": "[encoded data removed]",
      "text/plain": [
       "<matplotlib.figure.Figure at 0x12467ba8>"
      ]
     },
     "metadata": {},
     "output_type": "display_data"
    }
   ],
   "source": [
    "importances = rfr.feature_importances_\n",
    "std = np.std([tree.feature_importances_ for tree in rfr.estimators_],\n",
    "             axis=0)\n",
    "indices = np.argsort(importances)[::-1]\n",
    "\n",
    "# Print the feature ranking\n",
    "print(\"Feature ranking:\")\n",
    "\n",
    "for f in range(X.shape[1]):\n",
    "    print(\"%d. %s (%f)\" % (f + 1, featureNames[f], importances[indices[f]]))\n",
    "\n",
    "# Plot the feature importances of the forest\n",
    "plt.figure()\n",
    "plt.title(\"Feature importances\")\n",
    "plt.bar(range(X.shape[1]), importances[indices],\n",
    "       color=\"r\", yerr=std[indices], align=\"center\")\n",
    "plt.xticks(range(X.shape[1]), indices)\n",
    "plt.xlim([-1, X.shape[1]])\n",
    "plt.show()"
   ]
  },
  {
   "cell_type": "code",
   "execution_count": null,
   "metadata": {
    "collapsed": true
   },
   "outputs": [],
   "source": [
    "#idk if scaling the data is right, so ill take it out"
   ]
  },
  {
   "cell_type": "code",
   "execution_count": 121,
   "metadata": {
    "collapsed": false
   },
   "outputs": [
    {
     "name": "stdout",
     "output_type": "stream",
     "text": [
      "Num Features: 5\n",
      "Selected Features: [False False False False False False False False False False False False\n",
      " False False False False False False False False False False False False\n",
      " False False False  True  True  True False  True False  True False False]\n",
      "Feature Ranking, From Recursive Feature Elimination: [ 2  5 20  6  3 13 10 29 14  7 23 25  8  9 26 11 30 12 24  4 16 28 15 27 17\n",
      " 19 21  1  1  1 18  1 22  1 32 31]\n"
     ]
    }
   ],
   "source": [
    "model_rfe = LogisticRegression()\n",
    "rfe = RFE(model_rfe, 5)\n",
    "X_train_int = X_train.astype('int')\n",
    "y_train_int = y_train.astype('int')\n",
    "fit = rfe.fivt(X_train_int,y_train_int)\n",
    "print((\"Num Features: %d\") % fit.n_features_)\n",
    "print((\"Selected Features: %s\") % fit.support_)\n",
    "print((\"Feature Ranking, From Recursive Feature Elimination: %s\") % fit.ranking_)\n"
   ]
  },
  {
   "cell_type": "code",
   "execution_count": 137,
   "metadata": {
    "collapsed": false
   },
   "outputs": [
    {
     "name": "stdout",
     "output_type": "stream",
     "text": [
      "matchType_squad-fpp\n",
      "kills\n",
      "matchType_duo-fpp\n",
      "teamKills\n",
      "matchType_solo-fpp\n"
     ]
    }
   ],
   "source": [
    "for f in range(len(fit.support_)):\n",
    "    if fit.support_[f] == True:\n",
    "        print featureNames[f]"
   ]
  },
  {
   "cell_type": "code",
   "execution_count": 124,
   "metadata": {
    "collapsed": false
   },
   "outputs": [
    {
     "name": "stdout",
     "output_type": "stream",
     "text": [
      "Automatically created module for IPython interactive environment\n",
      "Optimal number of features : 27\n"
     ]
    },
    {
     "data": {
      "image/png": "[encoded data removed]",
      "text/plain": [
       "<matplotlib.figure.Figure at 0x70a04320>"
      ]
     },
     "metadata": {},
     "output_type": "display_data"
    }
   ],
   "source": [
    "print(__doc__)\n",
    "\n",
    "from sklearn.svm import SVC\n",
    "from sklearn.model_selection import StratifiedKFold\n",
    "from sklearn.feature_selection import RFECV\n",
    "\n",
    "# Create the RFE object and compute a cross-validated score.\n",
    "#svc = SVC(kernel=\"linear\")\n",
    "# The \"accuracy\" scoring is proportional to the number of correct\n",
    "# classifications\n",
    "rfecv = RFECV(model_rfe, step=1, cv=StratifiedKFold(2),\n",
    "              scoring='accuracy')\n",
    "rfecv.fit(X_train_int,y_train_int)\n",
    "\n",
    "print(\"Optimal number of features : %d\" % rfecv.n_features_)\n",
    "\n",
    "# Plot number of features VS. cross-validation scores\n",
    "plt.figure()\n",
    "plt.xlabel(\"Number of features selected\")\n",
    "plt.ylabel(\"Cross validation score (nb of correct classifications)\")\n",
    "plt.plot(range(1, len(rfecv.grid_scores_) + 1), rfecv.grid_scores_)\n",
    "plt.show()"
   ]
  },
  {
   "cell_type": "code",
   "execution_count": 136,
   "metadata": {
    "collapsed": false
   },
   "outputs": [
    {
     "name": "stdout",
     "output_type": "stream",
     "text": [
      "matchType_squad-fpp\n",
      "kills\n",
      "matchType_duo-fpp\n",
      "teamKills\n",
      "matchType_solo-fpp\n"
     ]
    }
   ],
   "source": [
    "for f in range(len(fit.ranking_)):\n",
    "    if fit.ranking_[f] == 1:\n",
    "        print featureNames[f]"
   ]
  },
  {
   "cell_type": "markdown",
   "metadata": {},
   "source": [
    "\n",
    "\n",
    "# Build a forest and compute the feature importances\n",
    "forest = ExtraTreesRegressor(n_estimators=250,\n",
    "                              random_state=0)\n",
    "\n",
    "forest.fit(X, Y)\n",
    "importances = rf1.featureimportances\n",
    "std = np.std([tree.featureimportances for tree in rf1.estimators_],\n",
    "axis=0)\n",
    "indices = np.argsort(importances)[::-1]\n",
    "\n",
    "#Print the feature ranking\n",
    "print(\"Feature ranking:\")\n",
    "\n",
    "for f in range(df.shape[1]):\n",
    "print(\"%d. feature %d (%f)\" % (f + 1, indices[f], importances[indices[f]]))\n",
    "\n",
    "#Plot the feature importances of the forest\n",
    "plt.figure()\n",
    "plt.title(\"Feature importances\")\n",
    "plt.bar(range(df.shape[1]), importances[indices],\n",
    "color=\"r\", yerr=std[indices], align=\"center\")\n",
    "plt.xticks(range(df.shape[1]), indices)\n",
    "plt.xlim([-1, df.shape[1]])\n",
    "plt.show()"
   ]
  },
  {
   "cell_type": "markdown",
   "metadata": {
    "collapsed": true
   },
   "source": [
    "t0 = time()\n",
    "model_rfe = LogisticRegression()\n",
    "rfe = RFE(model_rfe, 5)\n",
    "fit = rfe.fit(X, Y)\n",
    "\n",
    "t1 = time()\n",
    "model_extraTrees = ExtraTreesClassifier()\n",
    "model_extraTrees.fit(X, Y)\n",
    "t2 = time()\n",
    "\n",
    "print 'Recursive Feature Elimination Model took %i minutes and %i seconds' %(math.floor((t1-t0)/60), math.floor((t1-t0)%60))\n",
    "print 'Extra Trees Classifier took %i minutes and %i seconds' %(math.floor((t2-t1)/60), math.floor((t2-t1)%60))\n",
    "print\n",
    "print(\"Num Features: %d\") % fit.n_features_\n",
    "print(\"Selected Features: %s\") % fit.support_\n",
    "print(\"Feature Ranking, From Recursive Feature Elimination: %s\") % fit.ranking_\n",
    "print(\"Feature Ranking, Percentages from Extra Trees Classifer: %s\") % model_extraTrees.feature_importances_"
   ]
  }
 ],
 "metadata": {
  "anaconda-cloud": {},
  "kernelspec": {
   "display_name": "Python [conda root]",
   "language": "python",
   "name": "conda-root-py"
  },
  "language_info": {
   "codemirror_mode": {
    "name": "ipython",
    "version": 2
   },
   "file_extension": ".py",
   "mimetype": "text/x-python",
   "name": "python",
   "nbconvert_exporter": "python",
   "pygments_lexer": "ipython2",
   "version": "2.7.12"
  }
 },
 "nbformat": 4,
 "nbformat_minor": 1
}
